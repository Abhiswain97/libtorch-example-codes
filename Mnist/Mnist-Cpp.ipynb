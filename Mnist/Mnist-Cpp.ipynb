{
 "cells": [
  {
   "cell_type": "markdown",
   "id": "2e6c0cd5",
   "metadata": {},
   "source": [
    "# Mnist in libtorch"
   ]
  },
  {
   "cell_type": "code",
   "execution_count": 1,
   "id": "3ee030b6",
   "metadata": {},
   "outputs": [],
   "source": [
    "#pragma cling add_library_path(\"/home/abhishek/Downloads/libtorch-cxx11-abi-shared-with-deps-1.8.1+cpu/libtorch/lib/\")\n",
    "#pragma cling add_include_path(\"/home/abhishek/Downloads/libtorch-cxx11-abi-shared-with-deps-1.8.1+cpu/libtorch/include\")\n",
    "#pragma cling add_include_path(\"/home/abhishek/Downloads/libtorch-cxx11-abi-shared-with-deps-1.8.1+cpu/libtorch/include/torch/csrc/api/include/\")"
   ]
  },
  {
   "cell_type": "code",
   "execution_count": 2,
   "id": "b46ab270",
   "metadata": {},
   "outputs": [],
   "source": [
    "#pragma cling load(\"/home/abhishek/Downloads/libtorch-cxx11-abi-shared-with-deps-1.8.1+cpu/libtorch/lib/libc10.so\")\n",
    "#pragma cling load(\"/home/abhishek/Downloads/libtorch-cxx11-abi-shared-with-deps-1.8.1+cpu/libtorch/lib/libgomp-75eea7e8.so.1\")\n",
    "#pragma cling load(\"/home/abhishek/Downloads/libtorch-cxx11-abi-shared-with-deps-1.8.1+cpu/libtorch/lib/libtorch.so\")"
   ]
  },
  {
   "cell_type": "code",
   "execution_count": 3,
   "id": "298a1f12",
   "metadata": {},
   "outputs": [],
   "source": [
    "#include <torch/torch.h>\n",
    "#include <iostream>\n",
    "#include <typeinfo>"
   ]
  },
  {
   "cell_type": "code",
   "execution_count": 4,
   "id": "a12b5bb2",
   "metadata": {},
   "outputs": [],
   "source": [
    "struct Net : torch::nn::Module\n",
    "{\n",
    "    Net()\n",
    "        : conv1(torch::nn::Conv2dOptions(1, 6, 3)),\n",
    "          conv2(torch::nn::Conv2dOptions(6, 16, 3)),\n",
    "          fc1(400, 120),\n",
    "          fc2(120, 84), fc3(84, 10)\n",
    "    {\n",
    "        register_module(\"conv1\", conv1);\n",
    "        register_module(\"conv2\", conv2);\n",
    "        register_module(\"fc1\", fc1);\n",
    "        register_module(\"fc2\", fc2);\n",
    "        register_module(\"fc3\", fc3);\n",
    "    }\n",
    "\n",
    "    torch::Tensor forward(torch::Tensor x)\n",
    "    {\n",
    "        x = torch::max_pool2d(torch::relu(conv1->forward(x)), 2);\n",
    "\n",
    "        x = torch::max_pool2d(torch::relu(conv2->forward(x)), 2);\n",
    "\n",
    "        x = x.view({-1, 400});\n",
    "\n",
    "        x = torch::relu(fc1->forward(x));\n",
    "        x = torch::relu(fc2->forward(x));\n",
    "\n",
    "        x = fc3->forward(x);\n",
    "\n",
    "        return torch::log_softmax(x, /*dim=*/1);\n",
    "    }\n",
    "\n",
    "    torch::nn::Conv2d conv1;\n",
    "    torch::nn::Conv2d conv2;\n",
    "    torch::nn::Linear fc1;\n",
    "    torch::nn::Linear fc2;\n",
    "    torch::nn::Linear fc3;\n",
    "};"
   ]
  },
  {
   "cell_type": "code",
   "execution_count": 5,
   "id": "1b1e10ca",
   "metadata": {},
   "outputs": [],
   "source": [
    "Net model;"
   ]
  },
  {
   "cell_type": "code",
   "execution_count": 6,
   "id": "364c03d4",
   "metadata": {},
   "outputs": [],
   "source": [
    "template <typename DataLoader>\n",
    "void train(\n",
    "    Net &model,\n",
    "    DataLoader &data_loader,\n",
    "    torch::optim::Optimizer &optimizer,\n",
    "    torch::Device &device)\n",
    "{\n",
    "    model.train();\n",
    "    size_t batch_idx = 0;\n",
    "    for (auto &batch : data_loader)\n",
    "    {\n",
    "        auto data = batch.data.to(device);\n",
    "        auto targets = batch.target.to(device);\n",
    "\n",
    "        optimizer.zero_grad();\n",
    "        auto output = model.forward(data);\n",
    "\n",
    "        auto loss = torch::nll_loss(output, targets);\n",
    "\n",
    "        AT_ASSERT(!std::isnan(loss.template item<float>()));\n",
    "\n",
    "        loss.backward();\n",
    "        optimizer.step();\n",
    "\n",
    "        if (++batch_idx % 1000 == 0)\n",
    "        {\n",
    "            std::printf(\n",
    "                \"Batch %ld | Loss: %.4f\\n\",\n",
    "                batch_idx,\n",
    "                loss.template item<float>());\n",
    "        }\n",
    "    }\n",
    "}"
   ]
  },
  {
   "cell_type": "code",
   "execution_count": 11,
   "id": "77d2d4ed",
   "metadata": {},
   "outputs": [],
   "source": [
    "template <typename DataLoader>\n",
    "void test(\n",
    "    Net& model,\n",
    "    torch::Device device,\n",
    "    DataLoader& data_loader,\n",
    "    size_t dataset_size) {\n",
    "  torch::NoGradGuard no_grad;\n",
    "  model.eval();\n",
    "  double test_loss = 0;\n",
    "  int32_t correct = 0;\n",
    "  for (const auto& batch : data_loader) {\n",
    "    auto data = batch.data.to(device), targets = batch.target.to(device);\n",
    "    auto output = model.forward(data);\n",
    "    test_loss += torch::nll_loss(\n",
    "                     output,\n",
    "                     targets,\n",
    "                     /*weight=*/{},\n",
    "                     torch::Reduction::Sum)\n",
    "                     .template item<float>();\n",
    "    auto pred = output.argmax(1);\n",
    "    correct += pred.eq(targets).sum().template item<int64_t>();\n",
    "  }\n",
    "\n",
    "  test_loss /= dataset_size;\n",
    "  std::printf(\n",
    "      \"\\nTest set: Average loss: %.4f | Accuracy: %.3f\\n\",\n",
    "      test_loss,\n",
    "      static_cast<double>(correct) / dataset_size);\n",
    "}\n"
   ]
  },
  {
   "cell_type": "code",
   "execution_count": 12,
   "id": "abfe5f87",
   "metadata": {},
   "outputs": [],
   "source": [
    "Net model;\n",
    "\n",
    "torch::DeviceType device_type;\n",
    "\n",
    "if (torch::cuda::is_available())\n",
    "{\n",
    "    device_type = torch::kCUDA;\n",
    "}\n",
    "else\n",
    "{\n",
    "    device_type = torch::kCPU;\n",
    "}\n",
    "torch::Device device(device_type);\n",
    "\n",
    "model.to(device);\n",
    "\n",
    "auto train_dataset = torch::data::datasets::MNIST(\"/home/abhishek/Desktop/libtorch-example-codes/Mnist/data\").map(torch::data::transforms::Stack<>());\n",
    "\n",
    "auto train_loader = torch::data::make_data_loader(std::move(train_dataset), 4);\n",
    "\n",
    "torch::optim::SGD optimizer(model.parameters(), torch::optim::SGDOptions(0.01).momentum(0.5));\n",
    "\n",
    "auto test_dataset = torch::data::datasets::MNIST(\"/home/abhishek/Desktop/libtorch-example-codes/Mnist/data\", torch::data::datasets::MNIST::Mode::kTest)\n",
    "                          .map(torch::data::transforms::Stack<>());\n",
    "\n",
    "const size_t test_dataset_size = test_dataset.size().value();\n",
    "auto test_loader = torch::data::make_data_loader(std::move(test_dataset), 4);\n",
    "\n"
   ]
  },
  {
   "cell_type": "code",
   "execution_count": 9,
   "id": "1455df6f",
   "metadata": {},
   "outputs": [
    {
     "name": "stdout",
     "output_type": "stream",
     "text": [
      "Batch 1000 | Loss: 0.4825\n",
      "Batch 2000 | Loss: 0.0558\n",
      "Batch 3000 | Loss: 0.0112\n",
      "Batch 4000 | Loss: 0.3857\n",
      "Batch 5000 | Loss: 0.0433\n",
      "Batch 6000 | Loss: 0.0313\n",
      "Batch 7000 | Loss: 0.0032\n",
      "Batch 8000 | Loss: 0.0001\n",
      "Batch 9000 | Loss: 0.1220\n",
      "Batch 10000 | Loss: 0.3579\n",
      "Batch 11000 | Loss: 0.0418\n",
      "Batch 12000 | Loss: 0.0486\n",
      "Batch 13000 | Loss: 0.0011\n",
      "Batch 14000 | Loss: 0.0085\n",
      "Batch 15000 | Loss: 0.0041\n"
     ]
    }
   ],
   "source": [
    "train(model, *train_loader, optimizer, device);"
   ]
  },
  {
   "cell_type": "code",
   "execution_count": 14,
   "id": "8bc87fa0",
   "metadata": {},
   "outputs": [],
   "source": [
    "// test(model, *test_loader, device, test_dataset_size)"
   ]
  },
  {
   "cell_type": "markdown",
   "id": "8541c1c2",
   "metadata": {},
   "source": [
    "> # test function needs some fixing"
   ]
  },
  {
   "cell_type": "code",
   "execution_count": null,
   "id": "eff8434c",
   "metadata": {},
   "outputs": [],
   "source": []
  }
 ],
 "metadata": {
  "kernelspec": {
   "display_name": "C++17",
   "language": "C++17",
   "name": "xcpp17"
  },
  "language_info": {
   "codemirror_mode": "text/x-c++src",
   "file_extension": ".cpp",
   "mimetype": "text/x-c++src",
   "name": "c++",
   "version": "17"
  }
 },
 "nbformat": 4,
 "nbformat_minor": 5
}
