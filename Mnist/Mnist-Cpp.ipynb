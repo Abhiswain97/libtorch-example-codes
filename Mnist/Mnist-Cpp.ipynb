{
 "cells": [
  {
   "cell_type": "code",
   "execution_count": 1,
   "id": "f231d43a",
   "metadata": {},
   "outputs": [],
   "source": [
    "#pragma cling add_library_path(\"/home/abhishek/Downloads/libtorch-cxx11-abi-shared-with-deps-1.8.1+cpu/libtorch/lib/\")\n",
    "#pragma cling add_include_path(\"/home/abhishek/Downloads/libtorch-cxx11-abi-shared-with-deps-1.8.1+cpu/libtorch/include\")\n",
    "#pragma cling add_include_path(\"/home/abhishek/Downloads/libtorch-cxx11-abi-shared-with-deps-1.8.1+cpu/libtorch/include/torch/csrc/api/include/\")"
   ]
  },
  {
   "cell_type": "code",
   "execution_count": 2,
   "id": "154f749b",
   "metadata": {},
   "outputs": [],
   "source": [
    "#pragma cling load(\"/home/abhishek/Downloads/libtorch-cxx11-abi-shared-with-deps-1.8.1+cpu/libtorch/lib/libc10.so\")\n",
    "#pragma cling load(\"/home/abhishek/Downloads/libtorch-cxx11-abi-shared-with-deps-1.8.1+cpu/libtorch/lib/libgomp-75eea7e8.so.1\")\n",
    "#pragma cling load(\"/home/abhishek/Downloads/libtorch-cxx11-abi-shared-with-deps-1.8.1+cpu/libtorch/lib/libtorch.so\")"
   ]
  },
  {
   "cell_type": "code",
   "execution_count": 3,
   "id": "ef84c12b",
   "metadata": {},
   "outputs": [],
   "source": [
    "#include <torch/torch.h>"
   ]
  },
  {
   "cell_type": "code",
   "execution_count": 4,
   "id": "dd48b035",
   "metadata": {},
   "outputs": [],
   "source": [
    "torch::Tensor Flatten(torch::Tensor x){\n",
    "    return x.view({x.sizes()[0], -1});\n",
    "}"
   ]
  },
  {
   "cell_type": "code",
   "execution_count": 16,
   "id": "786fce7c",
   "metadata": {},
   "outputs": [],
   "source": [
    "struct AlexNet: torch::nn::Module {\n",
    "    AlexNet()\n",
    "        : conv1(torch::nn::Conv2dOptions(1, 6, 3)), \n",
    "    conv2(torch::nn::Conv2dOptions(6, 16, 3)), \n",
    "    fc1(576, 120), \n",
    "    fc2(120, 84), fc3(84, 10){\n",
    "        register_module(\"conv1\", conv1);\n",
    "        register_module(\"conv2\", conv2);\n",
    "        register_module(\"fc1\", fc1);\n",
    "        register_module(\"fc2\", fc2);\n",
    "        register_module(\"fc3\", fc3);\n",
    "    }\n",
    "    \n",
    "    torch::Tensor forward(torch::Tensor x){\n",
    "        x = torch::max_pool2d(torch::relu(conv1->forward(x)), 2);\n",
    "        x = torch::max_pool2d(torch::relu(conv2->forward(x)), 2);\n",
    "        x = Flatten(x);\n",
    "        x = torch::relu(fc1->forward(x));\n",
    "        x = torch::relu(fc2->forward(x));\n",
    "        x = fc3->forward(x);\n",
    "        return x;\n",
    "    }\n",
    "    \n",
    "    torch::nn::Conv2d conv1;\n",
    "    torch::nn::Conv2d conv2;\n",
    "    torch::nn::Linear fc1;\n",
    "    torch::nn::Linear fc2;\n",
    "    torch::nn::Linear fc3;\n",
    "}"
   ]
  },
  {
   "cell_type": "code",
   "execution_count": 17,
   "id": "5e54c02e",
   "metadata": {},
   "outputs": [],
   "source": [
    "AlexNet model;"
   ]
  },
  {
   "cell_type": "code",
   "execution_count": 18,
   "id": "a40b5296",
   "metadata": {},
   "outputs": [],
   "source": [
    "torch::Tensor ip = torch::randn({1, 1, 32, 32});\n",
    "auto output = model.forward(ip);"
   ]
  },
  {
   "cell_type": "code",
   "execution_count": 19,
   "id": "2105fbd9",
   "metadata": {},
   "outputs": [
    {
     "name": "stdout",
     "output_type": "stream",
     "text": [
      " 0.0331  0.0509 -0.0283 -0.1149  0.0833  0.1142  0.0779  0.0514 -0.0137 -0.0771\n",
      "[ CPUFloatType{1,10} ]"
     ]
    }
   ],
   "source": [
    "std::cout << output;"
   ]
  },
  {
   "cell_type": "code",
   "execution_count": 20,
   "id": "d686493e",
   "metadata": {},
   "outputs": [],
   "source": [
    "void train(){\n",
    "    \n",
    "}"
   ]
  },
  {
   "cell_type": "code",
   "execution_count": null,
   "id": "153478f2",
   "metadata": {},
   "outputs": [],
   "source": [
    "void test(){\n",
    "    \n",
    "}"
   ]
  }
 ],
 "metadata": {
  "kernelspec": {
   "display_name": "C++17",
   "language": "C++17",
   "name": "xcpp17"
  },
  "language_info": {
   "codemirror_mode": "text/x-c++src",
   "file_extension": ".cpp",
   "mimetype": "text/x-c++src",
   "name": "c++",
   "version": "17"
  }
 },
 "nbformat": 4,
 "nbformat_minor": 5
}
