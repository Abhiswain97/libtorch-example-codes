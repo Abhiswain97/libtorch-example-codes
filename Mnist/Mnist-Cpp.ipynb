{
 "cells": [
  {
   "cell_type": "markdown",
   "id": "02ee927f",
   "metadata": {},
   "source": [
    "# Mnist in libtorch"
   ]
  },
  {
   "cell_type": "code",
   "execution_count": 1,
   "id": "f231d43a",
   "metadata": {},
   "outputs": [],
   "source": [
    "#pragma cling add_library_path(\"/home/abhishek/Downloads/libtorch-cxx11-abi-shared-with-deps-1.8.1+cpu/libtorch/lib/\")\n",
    "#pragma cling add_include_path(\"/home/abhishek/Downloads/libtorch-cxx11-abi-shared-with-deps-1.8.1+cpu/libtorch/include\")\n",
    "#pragma cling add_include_path(\"/home/abhishek/Downloads/libtorch-cxx11-abi-shared-with-deps-1.8.1+cpu/libtorch/include/torch/csrc/api/include/\")"
   ]
  },
  {
   "cell_type": "code",
   "execution_count": 2,
   "id": "154f749b",
   "metadata": {},
   "outputs": [],
   "source": [
    "#pragma cling load(\"/home/abhishek/Downloads/libtorch-cxx11-abi-shared-with-deps-1.8.1+cpu/libtorch/lib/libc10.so\")\n",
    "#pragma cling load(\"/home/abhishek/Downloads/libtorch-cxx11-abi-shared-with-deps-1.8.1+cpu/libtorch/lib/libgomp-75eea7e8.so.1\")\n",
    "#pragma cling load(\"/home/abhishek/Downloads/libtorch-cxx11-abi-shared-with-deps-1.8.1+cpu/libtorch/lib/libtorch.so\")"
   ]
  },
  {
   "cell_type": "code",
   "execution_count": 3,
   "id": "ef84c12b",
   "metadata": {},
   "outputs": [],
   "source": [
    "#include <torch/torch.h>\n",
    "#include <iostream>\n",
    "#include <typeinfo>"
   ]
  },
  {
   "cell_type": "markdown",
   "id": "72a8c37c",
   "metadata": {},
   "source": [
    "## Flatten()\n",
    "\n",
    "Utility function to flatten `torch::Tensor` for FC layers"
   ]
  },
  {
   "cell_type": "code",
   "execution_count": 4,
   "id": "dd48b035",
   "metadata": {},
   "outputs": [],
   "source": [
    "torch::Tensor Flatten(torch::Tensor x){\n",
    "    return x.view({x.sizes()[0], -1});\n",
    "}"
   ]
  },
  {
   "cell_type": "markdown",
   "id": "89b9ca5f",
   "metadata": {},
   "source": [
    "## Network\n",
    "\n",
    "Defining the network, In Python it was a class which inherited the `torch.nn.Module`. In C++ it's the same, inplace of a class here we define a `struct` which inherits `torch::nn::Module`\n",
    "\n",
    "Similarities and differences between Python API and C++:\n",
    "- In the constructor for the `struct` we define all the layers just like we do in Python API.\n",
    "- The `forward` method is the same as in Python "
   ]
  },
  {
   "cell_type": "code",
   "execution_count": 5,
   "id": "786fce7c",
   "metadata": {},
   "outputs": [],
   "source": [
    "struct Net: torch::nn::Module {\n",
    "    Net()\n",
    "        : conv1(torch::nn::Conv2dOptions(1, 6, 3)), \n",
    "    conv2(torch::nn::Conv2dOptions(6, 16, 3)), \n",
    "    fc1(576, 120), \n",
    "    fc2(120, 84), fc3(84, 10){\n",
    "        register_module(\"conv1\", conv1);\n",
    "        register_module(\"conv2\", conv2);\n",
    "        register_module(\"fc1\", fc1);\n",
    "        register_module(\"fc2\", fc2);\n",
    "        register_module(\"fc3\", fc3);\n",
    "    }\n",
    "    \n",
    "    torch::Tensor forward(torch::Tensor x){\n",
    "        x = torch::max_pool2d(torch::relu(conv1->forward(x)), 2);\n",
    "        x = torch::max_pool2d(torch::relu(conv2->forward(x)), 2);\n",
    "        x = Flatten(x);\n",
    "        x = torch::relu(fc1->forward(x));\n",
    "        x = torch::relu(fc2->forward(x));\n",
    "        x = fc3->forward(x);\n",
    "        return x;\n",
    "    }\n",
    "    \n",
    "    torch::nn::Conv2d conv1;\n",
    "    torch::nn::Conv2d conv2;\n",
    "    torch::nn::Linear fc1;\n",
    "    torch::nn::Linear fc2;\n",
    "    torch::nn::Linear fc3;\n",
    "}"
   ]
  },
  {
   "cell_type": "code",
   "execution_count": 6,
   "id": "5e54c02e",
   "metadata": {},
   "outputs": [],
   "source": [
    "Net model;"
   ]
  },
  {
   "cell_type": "code",
   "execution_count": 7,
   "id": "a40b5296",
   "metadata": {},
   "outputs": [],
   "source": [
    "torch::Tensor ip = torch::randn({1, 1, 32, 32});\n",
    "auto output = model.forward(ip);"
   ]
  },
  {
   "cell_type": "code",
   "execution_count": 8,
   "id": "2105fbd9",
   "metadata": {},
   "outputs": [
    {
     "name": "stdout",
     "output_type": "stream",
     "text": [
      " 0.1640 -0.0801  0.0833  0.0340  0.1296 -0.0128  0.0118  0.0391 -0.1252  0.1189\n",
      "[ CPUFloatType{1,10} ]"
     ]
    }
   ],
   "source": [
    "std::cout << output;"
   ]
  },
  {
   "cell_type": "code",
   "execution_count": 9,
   "id": "d686493e",
   "metadata": {},
   "outputs": [],
   "source": [
    "template<typename DataLoader>\n",
    "void trainer(DataLoader& loader, Net& net){\n",
    "    for(auto &batch: loader){\n",
    "        auto images = batch.data, targets = batch.target;\n",
    "        std::cout << images.sizes() << \" \" << targets.sizes(); \n",
    "    }\n",
    "}"
   ]
  },
  {
   "cell_type": "code",
   "execution_count": 10,
   "id": "153478f2",
   "metadata": {},
   "outputs": [],
   "source": [
    "void test(){\n",
    "    \n",
    "}"
   ]
  },
  {
   "cell_type": "code",
   "execution_count": 11,
   "id": "ea7f6c54",
   "metadata": {},
   "outputs": [],
   "source": [
    "auto train_dataset = torch::data::datasets::MNIST(\"./data\").map(torch::data::transforms::Stack<>());"
   ]
  },
  {
   "cell_type": "code",
   "execution_count": 21,
   "id": "41776ae5",
   "metadata": {},
   "outputs": [
    {
     "name": "stdout",
     "output_type": "stream",
     "text": [
      "60000"
     ]
    }
   ],
   "source": [
    "std::cout << train_dataset.size().value();"
   ]
  },
  {
   "cell_type": "code",
   "execution_count": 12,
   "id": "59e6802b",
   "metadata": {},
   "outputs": [],
   "source": [
    "const size_t train_dataset_size = train_dataset.size().value();"
   ]
  },
  {
   "cell_type": "code",
   "execution_count": 13,
   "id": "b21fcc4e",
   "metadata": {},
   "outputs": [
    {
     "name": "stdout",
     "output_type": "stream",
     "text": [
      "60000"
     ]
    }
   ],
   "source": [
    "std::cout << train_dataset_size; "
   ]
  },
  {
   "cell_type": "code",
   "execution_count": 14,
   "id": "ece73971",
   "metadata": {},
   "outputs": [
    {
     "name": "stderr",
     "output_type": "stream",
     "text": [
      "\u001b[1minput_line_20:2:28: \u001b[0m\u001b[0;1;31merror: \u001b[0m\u001b[1mno member named 'get' in 'torch::data::datasets::MapDataset<torch::data::datasets::MNIST,\n",
      "      torch::data::transforms::Stack<Example<> > >'\u001b[0m\n",
      " auto item = train_dataset.get(0)\n",
      "\u001b[0;1;32m             ~~~~~~~~~~~~~ ^\n",
      "\u001b[0m"
     ]
    },
    {
     "ename": "Interpreter Error",
     "evalue": "",
     "output_type": "error",
     "traceback": [
      "Interpreter Error: "
     ]
    }
   ],
   "source": [
    "auto item = train_dataset.get(0)"
   ]
  },
  {
   "cell_type": "code",
   "execution_count": null,
   "id": "c59b20ff",
   "metadata": {},
   "outputs": [],
   "source": [
    "std::cout << item.data.sizes();"
   ]
  },
  {
   "cell_type": "code",
   "execution_count": null,
   "id": "ff4c3465",
   "metadata": {},
   "outputs": [],
   "source": [
    "auto train_loader = torch::data::make_data_loader<torch::data::samplers::RandomSampler>(\n",
    "    std::move(train_dataset), 4);"
   ]
  },
  {
   "cell_type": "code",
   "execution_count": null,
   "id": "c8cf0377",
   "metadata": {},
   "outputs": [],
   "source": [
    "auto& batch = *train_loader;"
   ]
  },
  {
   "cell_type": "code",
   "execution_count": null,
   "id": "7d808d6b",
   "metadata": {},
   "outputs": [],
   "source": [
    "typeid(batch).name()"
   ]
  },
  {
   "cell_type": "code",
   "execution_count": null,
   "id": "7dde8041",
   "metadata": {},
   "outputs": [],
   "source": []
  }
 ],
 "metadata": {
  "kernelspec": {
   "display_name": "C++17",
   "language": "C++17",
   "name": "xcpp17"
  },
  "language_info": {
   "codemirror_mode": "text/x-c++src",
   "file_extension": ".cpp",
   "mimetype": "text/x-c++src",
   "name": "c++",
   "version": "17"
  }
 },
 "nbformat": 4,
 "nbformat_minor": 5
}
