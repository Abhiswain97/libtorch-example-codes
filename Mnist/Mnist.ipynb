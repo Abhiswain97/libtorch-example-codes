{
 "cells": [
  {
   "cell_type": "code",
   "execution_count": 1,
   "id": "380a1044-cceb-41a5-89bd-9ac481e2203d",
   "metadata": {},
   "outputs": [],
   "source": [
    "#pragma cling add_library_path(\"/home/abhishek/Downloads/libtorch/lib/\")\n",
    "#pragma cling add_include_path(\"/home/abhishek/Downloads/libtorch/include\")\n",
    "#pragma cling add_include_path(\"/home/abhishek/Downloads/libtorch/include/torch/csrc/api/include/\")"
   ]
  },
  {
   "cell_type": "code",
   "execution_count": 2,
   "id": "bb3f00b2-7f1c-495d-a703-d3366eb4de4e",
   "metadata": {},
   "outputs": [],
   "source": [
    "#pragma cling load(\"/home/abhishek/Downloads/libtorch/lib/libc10.so\")\n",
    "#pragma cling load(\"/home/abhishek/Downloads/libtorch/lib/libgomp-75eea7e8.so.1\")\n",
    "#pragma cling load(\"/home/abhishek/Downloads/libtorch/lib/libtorch.so\")"
   ]
  },
  {
   "cell_type": "code",
   "execution_count": 3,
   "id": "147e29ea-cdc2-48d6-a337-711ae745f567",
   "metadata": {},
   "outputs": [],
   "source": [
    "#include \"Main.h\""
   ]
  },
  {
   "cell_type": "code",
   "execution_count": 7,
   "id": "62eddf91-d06a-4358-aef5-663c9b31ef7d",
   "metadata": {},
   "outputs": [
    {
     "name": "stdout",
     "output_type": "stream",
     "text": [
      " 0.2164 -1.2534\n",
      " 0.2482 -1.3430\n",
      " 0.0711  0.9113\n",
      "[ CPUFloatType{3,2} ]"
     ]
    }
   ],
   "source": [
    "std::cout << torch::randn({3, 2});"
   ]
  },
  {
   "cell_type": "markdown",
   "id": "fea56da3-e712-4802-9755-dab677cc2aa6",
   "metadata": {},
   "source": [
    "## Training function"
   ]
  },
  {
   "cell_type": "code",
   "execution_count": 5,
   "id": "a3f7d25b-3ac9-4129-806a-8aad605aaf36",
   "metadata": {},
   "outputs": [],
   "source": [
    "template <typename Dataloader>\n",
    "void train(\n",
    "    torch::jit::script::Module net,\n",
    "    torch::nn::Linear lin,\n",
    "    Dataloader &train_dl,\n",
    "    torch::optim::Optimizer &optimizer,\n",
    "    size_t dataset_size,\n",
    "    torch::Device device)\n",
    "{\n",
    "    // To calculate loss and accuracy per epoch\n",
    "    float avg_loss = 0.0f;\n",
    "    int64_t avg_accuracy = 0.0f;\n",
    "\n",
    "    // Put model and lin to (device)\n",
    "    net.to(device);\n",
    "    lin->to(device);\n",
    "\n",
    "    int64_t batch_index = 0;\n",
    "\n",
    "    for (auto &batch : train_dl)\n",
    "    {\n",
    "        // Zero the gradients of optimizer\n",
    "        optimizer.zero_grad();\n",
    "\n",
    "        // Fetch features and labels for current batch\n",
    "        auto data = batch.data.to(device);\n",
    "        auto targets = batch.target.to(device);\n",
    "\n",
    "        /* \n",
    "        Make a vector of jit Ivalues \n",
    "        and push `data` into it,\n",
    "        to be able to pass it through the jit model \n",
    "        */\n",
    "        std::vector<torch::jit::IValue> input;\n",
    "        input.push_back(data);\n",
    "\n",
    "        // Get the output from the jit model and cast into tensor\n",
    "        auto output = net.forward(input).toTensor();\n",
    "\n",
    "        // Resize output tesnor\n",
    "        output = output.view({output.size(0), -1});\n",
    "\n",
    "        // pass through linear layer for final output\n",
    "        output = lin(output);\n",
    "\n",
    "        // Calculate the loss\n",
    "        auto loss = torch::nn::CrossEntropyLoss()(output, targets);\n",
    "\n",
    "        if (++batch_index % Main().log_interval == 0)\n",
    "            std::printf(\n",
    "                \"\\r Batch: %ld Loss: %.4f\",\n",
    "                ++batch_index,\n",
    "                loss.template item<float>());\n",
    "        /* \n",
    "        Usual PyTorch steps:\n",
    "            backprop on the nll_loss\n",
    "            step the optimizer \n",
    "        */\n",
    "        loss.backward();\n",
    "        optimizer.zero_grad();\n",
    "\n",
    "        //Calculate number of corrects\n",
    "        auto corrects = output.argmax(1).eq(targets).sum();\n",
    "\n",
    "        avg_loss += loss.template item<float>();\n",
    "        avg_accuracy += corrects.template item<int64_t>();\n",
    "    }\n",
    "\n",
    "    std::cout << \"\\n Average Training loss: \" << avg_loss / float(dataset_size);\n",
    "    std::cout << \"\\n Average Training accuracy: \" << (avg_accuracy / float(dataset_size)) * 100 << \"%\";\n",
    "}\n"
   ]
  },
  {
   "cell_type": "markdown",
   "id": "1af1bbde-0172-497e-a64e-a5657bdb247c",
   "metadata": {},
   "source": [
    "## Testing function"
   ]
  },
  {
   "cell_type": "code",
   "execution_count": 6,
   "id": "0b8f1584-78fe-4c82-bf67-c5c7ec538a28",
   "metadata": {},
   "outputs": [],
   "source": [
    "template <typename Dataloader>\n",
    "void test(\n",
    "    torch::jit::script::Module net,\n",
    "    torch::nn::Linear lin,\n",
    "    Dataloader &test_dl,\n",
    "    size_t dataset_size,\n",
    "    float best_loss)\n",
    "{\n",
    "    // To calculate loss and accuracy per epoch\n",
    "    float avg_loss = 0.0f;\n",
    "    int64_t avg_accuracy = 0;\n",
    "\n",
    "    int64_t batch_index = 0;\n",
    "\n",
    "    net.to(torch::kCPU);\n",
    "    lin->to(torch::kCPU);\n",
    "\n",
    "    for (auto &batch : test_dl)\n",
    "    {\n",
    "        // Fetch features and labels for current batch\n",
    "        auto data = batch.data;\n",
    "        auto targets = batch.target;\n",
    "\n",
    "        /* \n",
    "        Make a vector of jit Ivalues \n",
    "        and push `data` into it,\n",
    "        to be able to pass it through the jit model \n",
    "        */\n",
    "        std::vector<torch::jit::IValue> input;\n",
    "        input.push_back(data);\n",
    "\n",
    "        // Get the output from the jit model and cast into tensor\n",
    "        auto output = net.forward(input).toTensor();\n",
    "\n",
    "        // Resize output tesnor\n",
    "        output = output.view({output.size(0), -1});\n",
    "\n",
    "        // pass through linear layer for final output\n",
    "        output = lin(output);\n",
    "\n",
    "        // Calculate the loss\n",
    "        auto loss = torch::nn::CrossEntropyLoss()(output, targets);\n",
    "\n",
    "        if (++batch_index % Main().log_interval == 0)\n",
    "            std::printf(\n",
    "                \"\\r Batch: %ld Loss: %.4f\",\n",
    "                ++batch_index,\n",
    "                loss.template item<float>());\n",
    "\n",
    "        //Calculate number of corrects\n",
    "        auto corrects = output.argmax(1).eq(targets).sum();\n",
    "\n",
    "        avg_loss += loss.template item<float>();\n",
    "        avg_accuracy += corrects.template item<int64_t>();\n",
    "    }\n",
    "\n",
    "    float final_loss = avg_loss / float(dataset_size);\n",
    "\n",
    "    std::cout << \"\\n Average Testing loss: \" << final_loss;\n",
    "    std::cout << \"\\n Average Testing accuracy: \" << (avg_accuracy / float(dataset_size)) * 100 << \"%\";\n",
    "\n",
    "    if(final_loss < best_loss ){\n",
    "        std::cout << \"\\n Saving model...\" << std::endl;\n",
    "        torch::save(lin, \"best_model.pt\");\n",
    "    }\n",
    "}"
   ]
  },
  {
   "cell_type": "code",
   "execution_count": null,
   "id": "2ce790e1-65a4-4cfe-842a-88ee12e5ac83",
   "metadata": {},
   "outputs": [],
   "source": []
  }
 ],
 "metadata": {
  "kernelspec": {
   "display_name": "C++17",
   "language": "C++17",
   "name": "xcpp17"
  },
  "language_info": {
   "codemirror_mode": "text/x-c++src",
   "file_extension": ".cpp",
   "mimetype": "text/x-c++src",
   "name": "c++",
   "version": "17"
  }
 },
 "nbformat": 4,
 "nbformat_minor": 5
}
